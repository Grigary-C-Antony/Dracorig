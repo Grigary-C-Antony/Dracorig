{
  "nbformat": 4,
  "nbformat_minor": 0,
  "metadata": {
    "colab": {
      "name": "encryption and decription code.ipynb",
      "provenance": [],
      "authorship_tag": "ABX9TyPfc7k5RPs5MYPz2y9BCpkJ",
      "include_colab_link": true
    },
    "kernelspec": {
      "name": "python3",
      "display_name": "Python 3"
    }
  },
  "cells": [
    {
      "cell_type": "markdown",
      "metadata": {
        "id": "view-in-github",
        "colab_type": "text"
      },
      "source": [
        "<a href=\"https://colab.research.google.com/github/Grigary-C-Antony/Dracorig/blob/master/Colab/encryption_and_decription_code.ipynb\" target=\"_parent\"><img src=\"https://colab.research.google.com/assets/colab-badge.svg\" alt=\"Open In Colab\"/></a>"
      ]
    },
    {
      "cell_type": "code",
      "metadata": {
        "id": "SpRfYwWioEG6",
        "colab_type": "code",
        "colab": {}
      },
      "source": [
        "# importing libraries \n",
        "import tensorflow as tf \n",
        "import numpy as np \n",
        "from tensorflow import keras \n",
        "\n",
        "# creating the simplest neural structure \n",
        "# with only one layer and that only have one neuron \n",
        "model = keras.Sequential([keras.layers.Dense(units = 1, \n",
        "\t\t\t\t\t\t\t\t\t\t\tinput_shape =[1])]) \n",
        "# compiling model with optimizer to make predictions and \n",
        "# loss to keep checking the accuracy of the predictions \n",
        "model.compile(optimizer ='sgd', loss ='mean_squared_error') \n",
        "\n",
        "# here we will give sample data with which program will learn \n",
        "# and make predictions on its basis \n",
        "xs = np.array([0, 1, 2, 3, 4, 5, 6, 7, 8, 9, 10], dtype = float) \n",
        "ys = np.array([2, 3, 4, 5, 6, 7, 8, 9, 10, 11,12], dtype = float) \n",
        "\n",
        "# we will fit the data in the model and the epochs is number of \n",
        "# times model will run sample data to increase its accuracy \n",
        "model.fit(xs, ys, epochs = 1000) \n",
        "\n",
        "\n",
        "# creating the simplest neural structure \n",
        "# with only one layer and that only have one neuron \n",
        "model1 = keras.Sequential([keras.layers.Dense(units = 1, \n",
        "\t\t\t\t\t\t\t\t\t\t\tinput_shape =[1])]) \n",
        "# compiling model with optimizer to make predictions and \n",
        "# loss to keep checking the accuracy of the predictions \n",
        "model1.compile(optimizer ='sgd', loss ='mean_squared_error') \n",
        "\n",
        "# here we will give sample data with which program will learn \n",
        "# and make predictions on its basis \n",
        "y1s = np.array([0, 1, 2, 3, 4, 5, 6, 7, 8, 9, 10], dtype = float) \n",
        "x1s = np.array([2, 3, 4, 5, 6, 7, 8, 9, 10, 11,12], dtype = float) \n",
        "\n",
        "# we will fit the data in the model and the epochs is number of \n",
        "# times model will run sample data to increase its accuracy \n",
        "model1.fit(x1s, y1s, epochs = 1000) "
      ],
      "execution_count": 0,
      "outputs": []
    },
    {
      "cell_type": "code",
      "metadata": {
        "id": "xll2mVY1oveR",
        "colab_type": "code",
        "outputId": "49a75aeb-7a51-4811-d8ef-ecdddb18a7b2",
        "colab": {
          "base_uri": "https://localhost:8080/",
          "height": 52
        }
      },
      "source": [
        "\n",
        "# taking input from user \n",
        "code = input(\"type some thing to encrypt :\")\n",
        "n = len(code) \n",
        "\n",
        "# dividing the input message into its characters \n",
        "# c = tuple(code) \n",
        "d = list(code) \n",
        "\n",
        "# predicting the output for each character and printing it \n",
        "for i in range(0, n): \n",
        "  s = ord(d[i]) \n",
        "  x = model.predict([s])\n",
        "  print(chr(x), end =\"\")\n",
        "# for i in range(0, n):\n",
        "  y = model1.predict(x)\n",
        "  print(chr(y+1),end=\"\")\n"
      ],
      "execution_count": 0,
      "outputs": [
        {
          "output_type": "stream",
          "text": [
            "type some thing to encrypt :grigary\n",
            "igtrkiigcatr{y"
          ],
          "name": "stdout"
        }
      ]
    },
    {
      "cell_type": "markdown",
      "metadata": {
        "id": "62gKGUkBvmqt",
        "colab_type": "text"
      },
      "source": [
        "To change the sampling rate in coding the encoder and decoder we can simply change the np array given above "
      ]
    },
    {
      "cell_type": "code",
      "metadata": {
        "id": "hCNhN8O-wJMk",
        "colab_type": "code",
        "colab": {}
      },
      "source": [
        "# importing libraries \n",
        "import tensorflow as tf \n",
        "import numpy as np \n",
        "from tensorflow import keras \n",
        "\n",
        "# creating the simplest neural structure \n",
        "# with only one layer and that only have one neuron \n",
        "model = keras.Sequential([keras.layers.Dense(units = 3, \n",
        "\t\t\t\t\t\t\t\t\t\t\tinput_shape =[1])]) \n",
        "# compiling model with optimizer to make predictions and \n",
        "# loss to keep checking the accuracy of the predictions \n",
        "model.compile(optimizer ='sgd', loss ='mean_squared_error') \n",
        "\n",
        "# here we will give sample data with which program will learn \n",
        "# and make predictions on its basis \n",
        "xs = np.array([0, 1, 2, 3, 4, 5, 6, 7, 8, 9, 10], dtype = float) \n",
        "ys = np.array([2, 3, 4, 5, 6, 7, 8, 9, 10, 11,12], dtype = float) \n",
        "\n",
        "# we will fit the data in the model and the epochs is number of \n",
        "# times model will run sample data to increase its accuracy \n",
        "model.fit(xs, ys, epochs = 1000) "
      ],
      "execution_count": 0,
      "outputs": []
    },
    {
      "cell_type": "code",
      "metadata": {
        "id": "7-UCvGlOxTvS",
        "colab_type": "code",
        "outputId": "fd9c5c75-a853-4915-c235-d6e48375278e",
        "colab": {
          "base_uri": "https://localhost:8080/",
          "height": 34
        }
      },
      "source": [
        ""
      ],
      "execution_count": 0,
      "outputs": [
        {
          "output_type": "stream",
          "text": [
            "Hellothere\n"
          ],
          "name": "stdout"
        }
      ]
    }
  ]
}